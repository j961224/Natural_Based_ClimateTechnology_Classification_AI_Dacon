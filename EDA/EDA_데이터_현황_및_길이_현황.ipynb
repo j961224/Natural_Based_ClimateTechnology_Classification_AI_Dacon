{
  "nbformat": 4,
  "nbformat_minor": 0,
  "metadata": {
    "colab": {
      "name": "EDA- 데이터 현황 및 길이 현황.ipynb",
      "provenance": [],
      "collapsed_sections": []
    },
    "kernelspec": {
      "name": "python3",
      "display_name": "Python 3"
    },
    "language_info": {
      "name": "python"
    }
  },
  "cells": [
    {
      "cell_type": "code",
      "metadata": {
        "colab": {
          "base_uri": "https://localhost:8080/"
        },
        "id": "jTAAL2BQzD6R",
        "outputId": "51d6123b-7d7d-4cc4-8666-1b21dd3791a0"
      },
      "source": [
        "from google.colab import drive\n",
        "drive.mount('/content/drive')"
      ],
      "execution_count": null,
      "outputs": [
        {
          "output_type": "stream",
          "text": [
            "Drive already mounted at /content/drive; to attempt to forcibly remount, call drive.mount(\"/content/drive\", force_remount=True).\n"
          ],
          "name": "stdout"
        }
      ]
    },
    {
      "cell_type": "code",
      "metadata": {
        "id": "O4_Nmq9_3DKr"
      },
      "source": [
        "import pandas as pd\n",
        "\n",
        "train = pd.read_csv(\"/content/drive/MyDrive/dacon 기후기술분류 ai 데이터/train.csv\")\n",
        "labels = pd.read_csv(\"/content/drive/MyDrive/dacon 기후기술분류 ai 데이터/labels_mapping.csv\")"
      ],
      "execution_count": null,
      "outputs": []
    },
    {
      "cell_type": "markdown",
      "metadata": {
        "id": "QOvThwdNMbEp"
      },
      "source": [
        "# 0. EDA"
      ]
    },
    {
      "cell_type": "code",
      "metadata": {
        "colab": {
          "base_uri": "https://localhost:8080/",
          "height": 1000
        },
        "id": "XGhq3hUf4t90",
        "outputId": "245bcb9f-632c-49ff-8862-b763bd422819"
      },
      "source": [
        "labels"
      ],
      "execution_count": null,
      "outputs": [
        {
          "output_type": "execute_result",
          "data": {
            "text/html": [
              "<div>\n",
              "<style scoped>\n",
              "    .dataframe tbody tr th:only-of-type {\n",
              "        vertical-align: middle;\n",
              "    }\n",
              "\n",
              "    .dataframe tbody tr th {\n",
              "        vertical-align: top;\n",
              "    }\n",
              "\n",
              "    .dataframe thead th {\n",
              "        text-align: right;\n",
              "    }\n",
              "</style>\n",
              "<table border=\"1\" class=\"dataframe\">\n",
              "  <thead>\n",
              "    <tr style=\"text-align: right;\">\n",
              "      <th></th>\n",
              "      <th>label</th>\n",
              "      <th>소분류</th>\n",
              "    </tr>\n",
              "  </thead>\n",
              "  <tbody>\n",
              "    <tr>\n",
              "      <th>0</th>\n",
              "      <td>0</td>\n",
              "      <td>00. NaN</td>\n",
              "    </tr>\n",
              "    <tr>\n",
              "      <th>1</th>\n",
              "      <td>1</td>\n",
              "      <td>01. 원자력 발전</td>\n",
              "    </tr>\n",
              "    <tr>\n",
              "      <th>2</th>\n",
              "      <td>2</td>\n",
              "      <td>02. 핵융합 발전</td>\n",
              "    </tr>\n",
              "    <tr>\n",
              "      <th>3</th>\n",
              "      <td>3</td>\n",
              "      <td>03. 청정화력발전·효율화</td>\n",
              "    </tr>\n",
              "    <tr>\n",
              "      <th>4</th>\n",
              "      <td>4</td>\n",
              "      <td>04. 수력</td>\n",
              "    </tr>\n",
              "    <tr>\n",
              "      <th>5</th>\n",
              "      <td>5</td>\n",
              "      <td>05. 태양광</td>\n",
              "    </tr>\n",
              "    <tr>\n",
              "      <th>6</th>\n",
              "      <td>6</td>\n",
              "      <td>06. 태양열</td>\n",
              "    </tr>\n",
              "    <tr>\n",
              "      <th>7</th>\n",
              "      <td>7</td>\n",
              "      <td>07. 지열</td>\n",
              "    </tr>\n",
              "    <tr>\n",
              "      <th>8</th>\n",
              "      <td>8</td>\n",
              "      <td>08. 풍력</td>\n",
              "    </tr>\n",
              "    <tr>\n",
              "      <th>9</th>\n",
              "      <td>9</td>\n",
              "      <td>09. 해양에너지</td>\n",
              "    </tr>\n",
              "    <tr>\n",
              "      <th>10</th>\n",
              "      <td>10</td>\n",
              "      <td>10. 바이오에너지</td>\n",
              "    </tr>\n",
              "    <tr>\n",
              "      <th>11</th>\n",
              "      <td>11</td>\n",
              "      <td>11. 폐기물</td>\n",
              "    </tr>\n",
              "    <tr>\n",
              "      <th>12</th>\n",
              "      <td>12</td>\n",
              "      <td>12. 수소 제조</td>\n",
              "    </tr>\n",
              "    <tr>\n",
              "      <th>13</th>\n",
              "      <td>13</td>\n",
              "      <td>13. 연료전지</td>\n",
              "    </tr>\n",
              "    <tr>\n",
              "      <th>14</th>\n",
              "      <td>14</td>\n",
              "      <td>14. 전력 저장</td>\n",
              "    </tr>\n",
              "    <tr>\n",
              "      <th>15</th>\n",
              "      <td>15</td>\n",
              "      <td>15. 수소 저장</td>\n",
              "    </tr>\n",
              "    <tr>\n",
              "      <th>16</th>\n",
              "      <td>16</td>\n",
              "      <td>16. 송배전 시스템</td>\n",
              "    </tr>\n",
              "    <tr>\n",
              "      <th>17</th>\n",
              "      <td>17</td>\n",
              "      <td>17. 전기 지능화 기기</td>\n",
              "    </tr>\n",
              "    <tr>\n",
              "      <th>18</th>\n",
              "      <td>18</td>\n",
              "      <td>18. 수송 효율화</td>\n",
              "    </tr>\n",
              "    <tr>\n",
              "      <th>19</th>\n",
              "      <td>19</td>\n",
              "      <td>19. 산업 효율화</td>\n",
              "    </tr>\n",
              "    <tr>\n",
              "      <th>20</th>\n",
              "      <td>20</td>\n",
              "      <td>20. 건축 효율화</td>\n",
              "    </tr>\n",
              "    <tr>\n",
              "      <th>21</th>\n",
              "      <td>21</td>\n",
              "      <td>21. CCUS</td>\n",
              "    </tr>\n",
              "    <tr>\n",
              "      <th>22</th>\n",
              "      <td>22</td>\n",
              "      <td>22. Non-CO2저감</td>\n",
              "    </tr>\n",
              "    <tr>\n",
              "      <th>23</th>\n",
              "      <td>23</td>\n",
              "      <td>23. 유전자원·유전개량</td>\n",
              "    </tr>\n",
              "    <tr>\n",
              "      <th>24</th>\n",
              "      <td>24</td>\n",
              "      <td>24. 작물재배·생산</td>\n",
              "    </tr>\n",
              "    <tr>\n",
              "      <th>25</th>\n",
              "      <td>25</td>\n",
              "      <td>25. 가축 질병관리</td>\n",
              "    </tr>\n",
              "    <tr>\n",
              "      <th>26</th>\n",
              "      <td>26</td>\n",
              "      <td>26. 가공·저장·유통</td>\n",
              "    </tr>\n",
              "    <tr>\n",
              "      <th>27</th>\n",
              "      <td>27</td>\n",
              "      <td>27. 수계·수생태계</td>\n",
              "    </tr>\n",
              "    <tr>\n",
              "      <th>28</th>\n",
              "      <td>28</td>\n",
              "      <td>28. 수자원 확보 및 공급</td>\n",
              "    </tr>\n",
              "    <tr>\n",
              "      <th>29</th>\n",
              "      <td>29</td>\n",
              "      <td>29. 수처리</td>\n",
              "    </tr>\n",
              "    <tr>\n",
              "      <th>30</th>\n",
              "      <td>30</td>\n",
              "      <td>30. 수재해 관리</td>\n",
              "    </tr>\n",
              "    <tr>\n",
              "      <th>31</th>\n",
              "      <td>31</td>\n",
              "      <td>31. 기후 예측 및 모델링</td>\n",
              "    </tr>\n",
              "    <tr>\n",
              "      <th>32</th>\n",
              "      <td>32</td>\n",
              "      <td>32. 기후 정보 경보 시스템</td>\n",
              "    </tr>\n",
              "    <tr>\n",
              "      <th>33</th>\n",
              "      <td>33</td>\n",
              "      <td>33. 해양생태계</td>\n",
              "    </tr>\n",
              "    <tr>\n",
              "      <th>34</th>\n",
              "      <td>34</td>\n",
              "      <td>34. 수산자원</td>\n",
              "    </tr>\n",
              "    <tr>\n",
              "      <th>35</th>\n",
              "      <td>35</td>\n",
              "      <td>35. 연안 재해 관리</td>\n",
              "    </tr>\n",
              "    <tr>\n",
              "      <th>36</th>\n",
              "      <td>36</td>\n",
              "      <td>36. 감염 질병 관리</td>\n",
              "    </tr>\n",
              "    <tr>\n",
              "      <th>37</th>\n",
              "      <td>37</td>\n",
              "      <td>37. 식품 안전 예방</td>\n",
              "    </tr>\n",
              "    <tr>\n",
              "      <th>38</th>\n",
              "      <td>38</td>\n",
              "      <td>38. 산림 생산 증진</td>\n",
              "    </tr>\n",
              "    <tr>\n",
              "      <th>39</th>\n",
              "      <td>39</td>\n",
              "      <td>39. 산림피해저감</td>\n",
              "    </tr>\n",
              "    <tr>\n",
              "      <th>40</th>\n",
              "      <td>40</td>\n",
              "      <td>40. 생태·모니터링·복원</td>\n",
              "    </tr>\n",
              "    <tr>\n",
              "      <th>41</th>\n",
              "      <td>41</td>\n",
              "      <td>41. 신재생에너지 하이브리드</td>\n",
              "    </tr>\n",
              "    <tr>\n",
              "      <th>42</th>\n",
              "      <td>42</td>\n",
              "      <td>42. 저전력 소모 장비</td>\n",
              "    </tr>\n",
              "    <tr>\n",
              "      <th>43</th>\n",
              "      <td>43</td>\n",
              "      <td>43. 에너지 하베스팅</td>\n",
              "    </tr>\n",
              "    <tr>\n",
              "      <th>44</th>\n",
              "      <td>44</td>\n",
              "      <td>44. 인공광합성</td>\n",
              "    </tr>\n",
              "    <tr>\n",
              "      <th>45</th>\n",
              "      <td>45</td>\n",
              "      <td>45. 기타 기후변화 관련 기술</td>\n",
              "    </tr>\n",
              "  </tbody>\n",
              "</table>\n",
              "</div>"
            ],
            "text/plain": [
              "    label                소분류\n",
              "0       0            00. NaN\n",
              "1       1         01. 원자력 발전\n",
              "2       2         02. 핵융합 발전\n",
              "3       3     03. 청정화력발전·효율화\n",
              "4       4             04. 수력\n",
              "5       5            05. 태양광\n",
              "6       6            06. 태양열\n",
              "7       7             07. 지열\n",
              "8       8             08. 풍력\n",
              "9       9          09. 해양에너지\n",
              "10     10         10. 바이오에너지\n",
              "11     11            11. 폐기물\n",
              "12     12          12. 수소 제조\n",
              "13     13           13. 연료전지\n",
              "14     14          14. 전력 저장\n",
              "15     15          15. 수소 저장\n",
              "16     16        16. 송배전 시스템\n",
              "17     17      17. 전기 지능화 기기\n",
              "18     18         18. 수송 효율화\n",
              "19     19         19. 산업 효율화\n",
              "20     20         20. 건축 효율화\n",
              "21     21           21. CCUS\n",
              "22     22     22. Non-CO2저감 \n",
              "23     23      23. 유전자원·유전개량\n",
              "24     24        24. 작물재배·생산\n",
              "25     25        25. 가축 질병관리\n",
              "26     26       26. 가공·저장·유통\n",
              "27     27        27. 수계·수생태계\n",
              "28     28    28. 수자원 확보 및 공급\n",
              "29     29            29. 수처리\n",
              "30     30         30. 수재해 관리\n",
              "31     31    31. 기후 예측 및 모델링\n",
              "32     32   32. 기후 정보 경보 시스템\n",
              "33     33          33. 해양생태계\n",
              "34     34           34. 수산자원\n",
              "35     35       35. 연안 재해 관리\n",
              "36     36       36. 감염 질병 관리\n",
              "37     37       37. 식품 안전 예방\n",
              "38     38       38. 산림 생산 증진\n",
              "39     39         39. 산림피해저감\n",
              "40     40     40. 생태·모니터링·복원\n",
              "41     41   41. 신재생에너지 하이브리드\n",
              "42     42      42. 저전력 소모 장비\n",
              "43     43       43. 에너지 하베스팅\n",
              "44     44          44. 인공광합성\n",
              "45     45  45. 기타 기후변화 관련 기술"
            ]
          },
          "metadata": {
            "tags": []
          },
          "execution_count": 39
        }
      ]
    },
    {
      "cell_type": "markdown",
      "metadata": {
        "id": "eNk2InwN_iR7"
      },
      "source": [
        "label을 dictionary로 만들기"
      ]
    },
    {
      "cell_type": "code",
      "metadata": {
        "colab": {
          "base_uri": "https://localhost:8080/"
        },
        "id": "manq08vb-LJB",
        "outputId": "c52f319b-c42b-445f-ec35-0371a67bad40"
      },
      "source": [
        "labels_dict={}\n",
        "z=0\n",
        "for i in range(len(labels)):\n",
        "  #print(labels.loc[i,'소분류'])\n",
        "  labels_dict[labels.loc[i,'소분류'][4:]]=z\n",
        "  z+=1\n",
        "print(labels_dict)"
      ],
      "execution_count": null,
      "outputs": [
        {
          "output_type": "stream",
          "text": [
            "{'NaN': 0, '원자력 발전': 1, '핵융합 발전': 2, '청정화력발전·효율화': 3, '수력': 4, '태양광': 5, '태양열': 6, '지열': 7, '풍력': 8, '해양에너지': 9, '바이오에너지': 10, '폐기물': 11, '수소 제조': 12, '연료전지': 13, '전력 저장': 14, '수소 저장': 15, '송배전 시스템': 16, '전기 지능화 기기': 17, '수송 효율화': 18, '산업 효율화': 19, '건축 효율화': 20, 'CCUS': 21, 'Non-CO2저감 ': 22, '유전자원·유전개량': 23, '작물재배·생산': 24, '가축 질병관리': 25, '가공·저장·유통': 26, '수계·수생태계': 27, '수자원 확보 및 공급': 28, '수처리': 29, '수재해 관리': 30, '기후 예측 및 모델링': 31, '기후 정보 경보 시스템': 32, '해양생태계': 33, '수산자원': 34, '연안 재해 관리': 35, '감염 질병 관리': 36, '식품 안전 예방': 37, '산림 생산 증진': 38, '산림피해저감': 39, '생태·모니터링·복원': 40, '신재생에너지 하이브리드': 41, '저전력 소모 장비': 42, '에너지 하베스팅': 43, '인공광합성': 44, '기타 기후변화 관련 기술': 45}\n"
          ],
          "name": "stdout"
        }
      ]
    },
    {
      "cell_type": "markdown",
      "metadata": {
        "id": "rxjHSqZH4lxr"
      },
      "source": [
        "train data 174304개 존재\n",
        "\n",
        "요약문 키워드를 한글과 영문 둘 다 줌"
      ]
    },
    {
      "cell_type": "code",
      "metadata": {
        "colab": {
          "base_uri": "https://localhost:8080/",
          "height": 963
        },
        "id": "JQlOtxE73iWj",
        "outputId": "e75fdbc6-93c1-43fc-978a-d82be2509f10"
      },
      "source": [
        "train"
      ],
      "execution_count": null,
      "outputs": [
        {
          "output_type": "execute_result",
          "data": {
            "text/html": [
              "<div>\n",
              "<style scoped>\n",
              "    .dataframe tbody tr th:only-of-type {\n",
              "        vertical-align: middle;\n",
              "    }\n",
              "\n",
              "    .dataframe tbody tr th {\n",
              "        vertical-align: top;\n",
              "    }\n",
              "\n",
              "    .dataframe thead th {\n",
              "        text-align: right;\n",
              "    }\n",
              "</style>\n",
              "<table border=\"1\" class=\"dataframe\">\n",
              "  <thead>\n",
              "    <tr style=\"text-align: right;\">\n",
              "      <th></th>\n",
              "      <th>index</th>\n",
              "      <th>제출년도</th>\n",
              "      <th>사업명</th>\n",
              "      <th>사업_부처명</th>\n",
              "      <th>계속과제여부</th>\n",
              "      <th>내역사업명</th>\n",
              "      <th>과제명</th>\n",
              "      <th>요약문_연구목표</th>\n",
              "      <th>요약문_연구내용</th>\n",
              "      <th>요약문_기대효과</th>\n",
              "      <th>요약문_한글키워드</th>\n",
              "      <th>요약문_영문키워드</th>\n",
              "      <th>label</th>\n",
              "    </tr>\n",
              "  </thead>\n",
              "  <tbody>\n",
              "    <tr>\n",
              "      <th>0</th>\n",
              "      <td>0</td>\n",
              "      <td>2016</td>\n",
              "      <td>농업기초기반연구</td>\n",
              "      <td>농촌진흥청</td>\n",
              "      <td>신규</td>\n",
              "      <td>농산물안전성연구</td>\n",
              "      <td>유전정보를 활용한 새로운 해충 분류군 동정기술 개발</td>\n",
              "      <td>○ 새로운 해충분류군의 동정기술 개발 및 유입확산 추적</td>\n",
              "      <td>(가) 외래 및 돌발해충의 발생조사 및 종 동정\\n\\n\\n    ○ 대상해충 : 최...</td>\n",
              "      <td>○ 새로운 돌발 및 외래해충의 신속, 정확한 동정법 향상\\n\\n\\n○ 돌발 및 외래...</td>\n",
              "      <td>뉴클레오티드 염기서열, 분자마커, 종 동정, 침샘, 전사체</td>\n",
              "      <td>nucleotide sequence, molecular marker, species...</td>\n",
              "      <td>24</td>\n",
              "    </tr>\n",
              "    <tr>\n",
              "      <th>1</th>\n",
              "      <td>1</td>\n",
              "      <td>2019</td>\n",
              "      <td>이공학학술연구기반구축(R&amp;D)</td>\n",
              "      <td>교육부</td>\n",
              "      <td>신규</td>\n",
              "      <td>지역대학우수과학자지원사업(1년~5년)</td>\n",
              "      <td>대장암의 TRAIL 내성 표적 인자 발굴 및 TRAIL 반응 예측 유전자 지도 구축...</td>\n",
              "      <td>최종목표:  TRAIL 감수성 표적 유전자를 발굴하고 내성제어 기전을 연구. 발굴된...</td>\n",
              "      <td>1차년도\\n1) Microarray를 통한 선천적 TRAIL 내성 표적 후보 유전자...</td>\n",
              "      <td>1) TRAIL 내성 특이적 표적분자를 발굴하고, 이를 이용한 TRAIL 효과 증진...</td>\n",
              "      <td>대장암,항암제 내성,세포사멸,유전자발굴</td>\n",
              "      <td>TRAIL,Colorectal cancer,TRAIL resistance,Apopt...</td>\n",
              "      <td>0</td>\n",
              "    </tr>\n",
              "    <tr>\n",
              "      <th>2</th>\n",
              "      <td>2</td>\n",
              "      <td>2016</td>\n",
              "      <td>중소기업기술혁신개발</td>\n",
              "      <td>중소기업청</td>\n",
              "      <td>신규</td>\n",
              "      <td>혁신기업기술개발</td>\n",
              "      <td>비목질계 셀룰로오스 식물자원을 활용한 기능성 부직포 및 고부가가치 뷰티케어 faci...</td>\n",
              "      <td>* 식물계자원 정련 및 최적 신서란 파이버 기초연구 개발\\n\\n\\n* 소비자 및 바...</td>\n",
              "      <td>* 식물계자원 정련 및 최적 신서란 파이버 기초연구 개발\\n\\n\\n- Tencel/...</td>\n",
              "      <td>* 국내 독자적인 비목질계 셀룰로오스 자원의 파이버 및 부직포 제조 등의 기술 확보...</td>\n",
              "      <td>기능성 샐룰로오스 파이버,천연섬유,기능성 부직포,뷰티&amp;amp;케어 제품,미용 솜</td>\n",
              "      <td>functional cellulose fiber,natural fiber,funct...</td>\n",
              "      <td>0</td>\n",
              "    </tr>\n",
              "    <tr>\n",
              "      <th>3</th>\n",
              "      <td>3</td>\n",
              "      <td>2018</td>\n",
              "      <td>창업성장기술개발(R&amp;D)</td>\n",
              "      <td>중소벤처기업부</td>\n",
              "      <td>신규</td>\n",
              "      <td>창업사업화연계과제</td>\n",
              "      <td>소화기 암 진단용 분자영상 형광프로브 개발</td>\n",
              "      <td>#  암특이적 바이오마커 발굴 및 바이오마커에 대한 프로브 개발\\n\\n\\n1) 소화...</td>\n",
              "      <td># 소화기 암 진단용 분자영상 형광프로브 개발\\n\\n\\n- 국소 도포형 소화기 암 ...</td>\n",
              "      <td># 암 진단기술의 차별성: 소화기 암 특이 프로브 개발\\n\\n\\n- 최근 체외진단시...</td>\n",
              "      <td>분자 진단,형광 조영제,프로브,항체,대장암</td>\n",
              "      <td>Molecular diagnosis,Fluorescence,probe,antibod...</td>\n",
              "      <td>0</td>\n",
              "    </tr>\n",
              "    <tr>\n",
              "      <th>4</th>\n",
              "      <td>4</td>\n",
              "      <td>2016</td>\n",
              "      <td>이공학개인기초연구지원</td>\n",
              "      <td>교육부</td>\n",
              "      <td>계속</td>\n",
              "      <td>기본연구지원</td>\n",
              "      <td>위암환자의 항암제반응예측을 위한 BRCA 발현검사</td>\n",
              "      <td>수술이 불가능한 위암환자는 생존기간은 10개월 안팎에 지나지 않고, 항암화학요법에 ...</td>\n",
              "      <td>-In situ hybridization 검사의 정확성을 확인하기 위해 위암세포주 ...</td>\n",
              "      <td>-본 연구는 파라핀보관조직에서 in situ hybridization로 mRNA 및...</td>\n",
              "      <td>BRCA,제자리부합법,조직미세배열,마이크로RNA,위암,항암제반응,젊은 연령/가족성 위암</td>\n",
              "      <td>BRCA,Insituhybridization,tissuemicroarray,micr...</td>\n",
              "      <td>0</td>\n",
              "    </tr>\n",
              "    <tr>\n",
              "      <th>...</th>\n",
              "      <td>...</td>\n",
              "      <td>...</td>\n",
              "      <td>...</td>\n",
              "      <td>...</td>\n",
              "      <td>...</td>\n",
              "      <td>...</td>\n",
              "      <td>...</td>\n",
              "      <td>...</td>\n",
              "      <td>...</td>\n",
              "      <td>...</td>\n",
              "      <td>...</td>\n",
              "      <td>...</td>\n",
              "      <td>...</td>\n",
              "    </tr>\n",
              "    <tr>\n",
              "      <th>174299</th>\n",
              "      <td>174299</td>\n",
              "      <td>2016</td>\n",
              "      <td>개인연구지원</td>\n",
              "      <td>미래창조과학부</td>\n",
              "      <td>신규</td>\n",
              "      <td>중견연구</td>\n",
              "      <td>혈관내막 증식을 치료하기 위한 표적분자 발굴</td>\n",
              "      <td>증식성 혈관질환과 염증반응과의 관련성이 높으나, 혈관평활근세포의 탈분화를 유도하는 ...</td>\n",
              "      <td>● 1차년: 혈관내막 증식과 관련된 표적분자 발굴 및 염증세포의 활성과 분화에 대한...</td>\n",
              "      <td>심혈관 질환 발생의 새로운 기전 규명뿐만 아니라  제어할 수 있는 새로운 방법을 탐...</td>\n",
              "      <td>혈관내막 증식,혈관 개조,혈관평활근세포,염증세포,혈관염증,혈관평활근세포 탈분화,표적분자</td>\n",
              "      <td>Intimahyperplasia,Vascularremodeling,Vasculars...</td>\n",
              "      <td>0</td>\n",
              "    </tr>\n",
              "    <tr>\n",
              "      <th>174300</th>\n",
              "      <td>174300</td>\n",
              "      <td>2016</td>\n",
              "      <td>개인연구지원</td>\n",
              "      <td>미래창조과학부</td>\n",
              "      <td>신규</td>\n",
              "      <td>중견연구</td>\n",
              "      <td>삼킴곤란 개선을 위한 물성조절 식품시스템에서의 유동층과립 복합소재의 유변물성 변화 ...</td>\n",
              "      <td>삼킴곤란을 겪고 있는 고령자의 안전한 식품섭취는 삼킴에 적합한 유변물성을 가진 물성...</td>\n",
              "      <td>본 연구에서는 여러 가지 유변물성 측정기술을 이용하여 고령자의 삼킴곤란 개선을 위해...</td>\n",
              "      <td>○ 그 동안 연구되지 않은 다양한 물성조절 검복합 소재의 과립제형 및 유변물성 연구...</td>\n",
              "      <td>삼킴곤란,유변물성,유동층과립,물리적 특성,검복합물</td>\n",
              "      <td>Swallowingdifficulty,Rheologicalproperty,Fludi...</td>\n",
              "      <td>0</td>\n",
              "    </tr>\n",
              "    <tr>\n",
              "      <th>174301</th>\n",
              "      <td>174301</td>\n",
              "      <td>2018</td>\n",
              "      <td>이공학학술연구기반구축(R&amp;D)</td>\n",
              "      <td>교육부</td>\n",
              "      <td>계속</td>\n",
              "      <td>이공분야학문후속세대양성_대통령POST_DOC펠로우쉽</td>\n",
              "      <td>식물 유전체 정보 고도화 및 핵심 유전자 군 진화연구</td>\n",
              "      <td>지난 10년여 동안 100여종에 대한 식물 유전체 정보가 완성되어 공개되었지만, 애...</td>\n",
              "      <td>○ 공개된 식물 유전체 정보 및 대상 유전자 군 선발\\n\\n   - 공개된 식물 유...</td>\n",
              "      <td>- 본 과제에서 개발한 annotation tool은 유전체 고도화 부분에서 가장 ...</td>\n",
              "      <td>유전자 정보 고도화,대상 유전자 군 재분석,비교 유전체 진화 분석,공개 식물 유전체...</td>\n",
              "      <td>Gene model improvement,Target gene family re-a...</td>\n",
              "      <td>0</td>\n",
              "    </tr>\n",
              "    <tr>\n",
              "      <th>174302</th>\n",
              "      <td>174302</td>\n",
              "      <td>2019</td>\n",
              "      <td>수요자맞춤형육종자원대량신속발굴기술개발(R&amp;D)</td>\n",
              "      <td>농촌진흥청</td>\n",
              "      <td>신규</td>\n",
              "      <td>유용형질 대량 특성평가를 통한 육종모본 발굴</td>\n",
              "      <td>콩 유전자원 내건성, 내습성 대량평가 체계구축 및 자원선발</td>\n",
              "      <td>1) 내건 및 내습성 유전자원 수집\\n\\n2) 내건성 자원평가 체계구축\\n\\n3) ...</td>\n",
              "      <td>[1차 년도(2019)] \\n\\n1) 내건 및 내습성 유전자원 수집\\n\\n○ 기존 ...</td>\n",
              "      <td>○ 내건성 및 내습성 특성평가 체계구축 및 우수자원 발굴로 내재해성 콩 품종육성 자...</td>\n",
              "      <td>콩, 가공적성, 병 저항성, 내재해성, 콩모자이크바이러스</td>\n",
              "      <td>soybean, food application, resistance, biotic-...</td>\n",
              "      <td>23</td>\n",
              "    </tr>\n",
              "    <tr>\n",
              "      <th>174303</th>\n",
              "      <td>174303</td>\n",
              "      <td>2019</td>\n",
              "      <td>이공학학술연구기반구축(R&amp;D)</td>\n",
              "      <td>교육부</td>\n",
              "      <td>신규</td>\n",
              "      <td>이공분야학문후속세대양성_박사후국내연수</td>\n",
              "      <td>광학적 위상 제어 기법을 적용한 디지털 홀로그래피 현미경 시스템 개발</td>\n",
              "      <td>본 연구의 목적은 이터븀이 도핑된 특수 광섬유를 이용하여 광학적인 방법으로 위상(P...</td>\n",
              "      <td>◦ 1차년도 연구개발 내용\\n   : 광섬유 비선형 굴절률 변화 효과를 이용한 광학...</td>\n",
              "      <td>본 연구를 통해 확보하고자 하는 안정적으로 위상 특성 제어를 통해 DHM 시스템을 ...</td>\n",
              "      <td>광섬유,위상장금,위상이동,간섭계,디지털홀로그래피,비축,복원,이터듐</td>\n",
              "      <td>fiber,phase locking,phase shift,interferometer...</td>\n",
              "      <td>0</td>\n",
              "    </tr>\n",
              "  </tbody>\n",
              "</table>\n",
              "<p>174304 rows × 13 columns</p>\n",
              "</div>"
            ],
            "text/plain": [
              "         index  제출년도  ...                                          요약문_영문키워드 label\n",
              "0            0  2016  ...  nucleotide sequence, molecular marker, species...    24\n",
              "1            1  2019  ...  TRAIL,Colorectal cancer,TRAIL resistance,Apopt...     0\n",
              "2            2  2016  ...  functional cellulose fiber,natural fiber,funct...     0\n",
              "3            3  2018  ...  Molecular diagnosis,Fluorescence,probe,antibod...     0\n",
              "4            4  2016  ...  BRCA,Insituhybridization,tissuemicroarray,micr...     0\n",
              "...        ...   ...  ...                                                ...   ...\n",
              "174299  174299  2016  ...  Intimahyperplasia,Vascularremodeling,Vasculars...     0\n",
              "174300  174300  2016  ...  Swallowingdifficulty,Rheologicalproperty,Fludi...     0\n",
              "174301  174301  2018  ...  Gene model improvement,Target gene family re-a...     0\n",
              "174302  174302  2019  ...  soybean, food application, resistance, biotic-...    23\n",
              "174303  174303  2019  ...  fiber,phase locking,phase shift,interferometer...     0\n",
              "\n",
              "[174304 rows x 13 columns]"
            ]
          },
          "metadata": {
            "tags": []
          },
          "execution_count": 41
        }
      ]
    },
    {
      "cell_type": "code",
      "metadata": {
        "colab": {
          "base_uri": "https://localhost:8080/"
        },
        "id": "0DpwdtPP4gmU",
        "outputId": "4a081ace-b41a-45ce-f141-1df0b55d871e"
      },
      "source": [
        "train.isnull().sum()"
      ],
      "execution_count": null,
      "outputs": [
        {
          "output_type": "execute_result",
          "data": {
            "text/plain": [
              "index           0\n",
              "제출년도            0\n",
              "사업명             0\n",
              "사업_부처명          0\n",
              "계속과제여부          0\n",
              "내역사업명           0\n",
              "과제명             0\n",
              "요약문_연구목표     3002\n",
              "요약문_연구내용     3001\n",
              "요약문_기대효과     3051\n",
              "요약문_한글키워드    3028\n",
              "요약문_영문키워드    3087\n",
              "label           0\n",
              "dtype: int64"
            ]
          },
          "metadata": {
            "tags": []
          },
          "execution_count": 42
        }
      ]
    },
    {
      "cell_type": "markdown",
      "metadata": {
        "id": "CswGPKdOKZwD"
      },
      "source": [
        "## null값 안 제거하고 count"
      ]
    },
    {
      "cell_type": "markdown",
      "metadata": {
        "id": "-hlqNfjcM5XJ"
      },
      "source": [
        "## 1. label 비율"
      ]
    },
    {
      "cell_type": "code",
      "metadata": {
        "colab": {
          "base_uri": "https://localhost:8080/"
        },
        "id": "q_J2Snd3_ogQ",
        "outputId": "297eec90-a2a6-47d0-b4d6-06a184eab162"
      },
      "source": [
        "#label 0(NAN)으로 142571(약 81%)개가 압도적으로 많음이 보인다.\n",
        "train['label'].value_counts(sort=False)/len(train)"
      ],
      "execution_count": null,
      "outputs": [
        {
          "output_type": "execute_result",
          "data": {
            "text/plain": [
              "0     0.817945\n",
              "1     0.007234\n",
              "2     0.001578\n",
              "3     0.000820\n",
              "4     0.000327\n",
              "5     0.009742\n",
              "6     0.000447\n",
              "7     0.000648\n",
              "8     0.001945\n",
              "9     0.000608\n",
              "10    0.003775\n",
              "11    0.001147\n",
              "12    0.001538\n",
              "13    0.003299\n",
              "14    0.009592\n",
              "15    0.000947\n",
              "16    0.002903\n",
              "17    0.000884\n",
              "18    0.008893\n",
              "19    0.028330\n",
              "20    0.006076\n",
              "21    0.002846\n",
              "22    0.000849\n",
              "23    0.010556\n",
              "24    0.020195\n",
              "25    0.004647\n",
              "26    0.001813\n",
              "27    0.003557\n",
              "28    0.002576\n",
              "29    0.005898\n",
              "30    0.001342\n",
              "31    0.005290\n",
              "32    0.001492\n",
              "33    0.003058\n",
              "34    0.003001\n",
              "35    0.001669\n",
              "36    0.006081\n",
              "37    0.001526\n",
              "38    0.001503\n",
              "39    0.001159\n",
              "40    0.002530\n",
              "41    0.000384\n",
              "42    0.000293\n",
              "43    0.002014\n",
              "44    0.000522\n",
              "45    0.006523\n",
              "Name: label, dtype: float64"
            ]
          },
          "metadata": {
            "tags": []
          },
          "execution_count": 43
        }
      ]
    },
    {
      "cell_type": "code",
      "metadata": {
        "colab": {
          "base_uri": "https://localhost:8080/",
          "height": 362
        },
        "id": "WY7LM9BjBnM9",
        "outputId": "5393e87f-4a45-491f-a752-7aa1466992ee"
      },
      "source": [
        "#너무 0으로 인해 나머지 수가 잘 가늠이 안 감\n",
        "import matplotlib.pyplot as plt\n",
        "plt.figure(figsize=(12,5))\n",
        "plt.title('label counts',fontsize=20)\n",
        "\n",
        "plt.ylabel('Counts',fontsize=15)\n",
        "plt.xlabel('label',fontsize=15)\n",
        "train['label'].value_counts().plot.bar()\n",
        "plt.show()"
      ],
      "execution_count": null,
      "outputs": [
        {
          "output_type": "display_data",
          "data": {
            "image/png": "[encoded data removed]",
            "text/plain": [
              "<Figure size 864x360 with 1 Axes>"
            ]
          },
          "metadata": {
            "tags": [],
            "needs_background": "light"
          }
        }
      ]
    },
    {
      "cell_type": "markdown",
      "metadata": {
        "id": "3FR7PHiJerfr"
      },
      "source": [
        "## 2. 과제명, 요약문_연구목표 길이, 요약문_연구내용 길이, 요약문_기대효과 길이 컬럼 EDA"
      ]
    },
    {
      "cell_type": "code",
      "metadata": {
        "colab": {
          "base_uri": "https://localhost:8080/",
          "height": 355
        },
        "id": "SM9JURoOeFRJ",
        "outputId": "93a144b8-633f-4034-bc2c-aabcc9eb8acd"
      },
      "source": [
        "import numpy as np\n",
        "length=train['과제명'].astype(str).apply(len)\n",
        "plt.hist(length, bins=50, alpha=0.5, color='r', label='word')\n",
        "#plt.title('histogram of length of task_name')\n",
        "plt.figure(figsize=(12, 5))\n",
        "#plt.boxplot(length, labels=['counts'], showmeans=True)\n",
        "print('과제명 길이 최댓값: {}'.format(np.max(length)))\n",
        "print('과제명 길이 최솟값: {}'.format(np.min(length)))\n",
        "print('과제명 길이 평균값: {}'.format(np.mean(length)))\n",
        "print('과제명 길이 중간값: {}'.format(np.median(length)))"
      ],
      "execution_count": null,
      "outputs": [
        {
          "output_type": "stream",
          "text": [
            "과제명 길이 최댓값: 229\n",
            "과제명 길이 최솟값: 2\n",
            "과제명 길이 평균값: 35.84252225995961\n",
            "과제명 길이 중간값: 34.0\n"
          ],
          "name": "stdout"
        },
        {
          "output_type": "display_data",
          "data": {
            "image/png": "[encoded data removed]",
            "text/plain": [
              "<Figure size 432x288 with 1 Axes>"
            ]
          },
          "metadata": {
            "tags": [],
            "needs_background": "light"
          }
        },
        {
          "output_type": "display_data",
          "data": {
            "text/plain": [
              "<Figure size 864x360 with 0 Axes>"
            ]
          },
          "metadata": {
            "tags": []
          }
        }
      ]
    },
    {
      "cell_type": "code",
      "metadata": {
        "colab": {
          "base_uri": "https://localhost:8080/",
          "height": 355
        },
        "id": "YtTEiguZeFXW",
        "outputId": "a2be6d43-2685-474a-bddd-b6861793704a"
      },
      "source": [
        "length=train['요약문_연구목표'].astype(str).apply(len)\n",
        "plt.hist(length, bins=50, alpha=0.5, color='r', label='word')\n",
        "#plt.title('histogram of length of summary_object')\n",
        "plt.figure(figsize=(12, 5))\n",
        "#plt.boxplot(length, labels=['counts'], showmeans=True)\n",
        "print('요약문_연구목표 길이 최댓값: {}'.format(np.max(length)))\n",
        "print('요약문_연구목표 길이 최솟값: {}'.format(np.min(length)))\n",
        "print('요약문_연구목표 길이 평균값: {}'.format(np.mean(length)))\n",
        "print('요약문_연구목표 길이 중간값: {}'.format(np.median(length)))"
      ],
      "execution_count": null,
      "outputs": [
        {
          "output_type": "stream",
          "text": [
            "요약문_연구목표 길이 최댓값: 3951\n",
            "요약문_연구목표 길이 최솟값: 1\n",
            "요약문_연구목표 길이 평균값: 318.1008066366807\n",
            "요약문_연구목표 길이 중간값: 249.0\n"
          ],
          "name": "stdout"
        },
        {
          "output_type": "display_data",
          "data": {
            "image/png": "[encoded data removed]",
            "text/plain": [
              "<Figure size 432x288 with 1 Axes>"
            ]
          },
          "metadata": {
            "tags": [],
            "needs_background": "light"
          }
        },
        {
          "output_type": "display_data",
          "data": {
            "text/plain": [
              "<Figure size 864x360 with 0 Axes>"
            ]
          },
          "metadata": {
            "tags": []
          }
        }
      ]
    },
    {
      "cell_type": "code",
      "metadata": {
        "colab": {
          "base_uri": "https://localhost:8080/",
          "height": 355
        },
        "id": "BaK_cC24eFcl",
        "outputId": "022355df-7991-4edb-9024-2435c5e8cf2c"
      },
      "source": [
        "length=train['요약문_연구내용'].astype(str).apply(len)\n",
        "plt.hist(length, bins=50, alpha=0.5, color='r', label='word')\n",
        "#plt.title('histogram of length of summary_content')\n",
        "plt.figure(figsize=(12, 5))\n",
        "#plt.boxplot(length, labels=['counts'], showmeans=True)\n",
        "print('요약문_연구내용 길이 최댓값: {}'.format(np.max(length)))\n",
        "print('요약문_연구내용 길이 최솟값: {}'.format(np.min(length)))\n",
        "print('요약문_연구내용 길이 평균값: {}'.format(np.mean(length)))\n",
        "print('요약문_연구내용 길이 중간값: {}'.format(np.median(length)))"
      ],
      "execution_count": null,
      "outputs": [
        {
          "output_type": "stream",
          "text": [
            "요약문_연구내용 길이 최댓값: 3999\n",
            "요약문_연구내용 길이 최솟값: 1\n",
            "요약문_연구내용 길이 평균값: 699.2930282724435\n",
            "요약문_연구내용 길이 중간값: 597.0\n"
          ],
          "name": "stdout"
        },
        {
          "output_type": "display_data",
          "data": {
            "image/png": "[encoded data removed]",
            "text/plain": [
              "<Figure size 432x288 with 1 Axes>"
            ]
          },
          "metadata": {
            "tags": [],
            "needs_background": "light"
          }
        },
        {
          "output_type": "display_data",
          "data": {
            "text/plain": [
              "<Figure size 864x360 with 0 Axes>"
            ]
          },
          "metadata": {
            "tags": []
          }
        }
      ]
    },
    {
      "cell_type": "code",
      "metadata": {
        "colab": {
          "base_uri": "https://localhost:8080/",
          "height": 355
        },
        "id": "66r6749VgEXA",
        "outputId": "b7adee5c-40bd-4f8d-d342-0a764edb2943"
      },
      "source": [
        "length=train['요약문_기대효과'].astype(str).apply(len)\n",
        "plt.hist(length, bins=50, alpha=0.5, color='r', label='word')\n",
        "#plt.title('histogram of length of summary_effect')\n",
        "plt.figure(figsize=(12, 5))\n",
        "#plt.boxplot(length, labels=['counts'], showmeans=True)\n",
        "print('요약문_기대효과 길이 최댓값: {}'.format(np.max(length)))\n",
        "print('요약문_기대효과 길이 최솟값: {}'.format(np.min(length)))\n",
        "print('요약문_기대효과 길이 평균값: {}'.format(np.mean(length)))\n",
        "print('요약문_기대효과 길이 중간값: {}'.format(np.median(length)))"
      ],
      "execution_count": null,
      "outputs": [
        {
          "output_type": "stream",
          "text": [
            "요약문_기대효과 길이 최댓값: 3649\n",
            "요약문_기대효과 길이 최솟값: 1\n",
            "요약문_기대효과 길이 평균값: 400.4864374885258\n",
            "요약문_기대효과 길이 중간값: 329.0\n"
          ],
          "name": "stdout"
        },
        {
          "output_type": "display_data",
          "data": {
            "image/png": "[encoded data removed]",
            "text/plain": [
              "<Figure size 432x288 with 1 Axes>"
            ]
          },
          "metadata": {
            "tags": [],
            "needs_background": "light"
          }
        },
        {
          "output_type": "display_data",
          "data": {
            "text/plain": [
              "<Figure size 864x360 with 0 Axes>"
            ]
          },
          "metadata": {
            "tags": []
          }
        }
      ]
    }
  ]
}