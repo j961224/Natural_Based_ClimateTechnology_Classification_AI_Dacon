{
  "nbformat": 4,
  "nbformat_minor": 0,
  "metadata": {
    "colab": {
      "name": "간단한모델,CNN+BiLSTM/전처리1.ipynb",
      "provenance": []
    },
    "kernelspec": {
      "name": "python3",
      "display_name": "Python 3"
    },
    "language_info": {
      "name": "python"
    }
  },
  "cells": [
    {
      "cell_type": "code",
      "metadata": {
        "id": "z5PaHH67NdeX"
      },
      "source": [
        ""
      ],
      "execution_count": null,
      "outputs": []
    },
    {
      "cell_type": "code",
      "metadata": {
        "colab": {
          "base_uri": "https://localhost:8080/"
        },
        "id": "Irv3voeWxjrP",
        "outputId": "3168910b-b270-4dfe-e68c-a58ab82fe43a"
      },
      "source": [
        "!pip install konlpy"
      ],
      "execution_count": null,
      "outputs": [
        {
          "output_type": "stream",
          "text": [
            "Collecting konlpy\n",
            "  Downloading konlpy-0.5.2-py2.py3-none-any.whl (19.4 MB)\n",
            "\u001b[K     |████████████████████████████████| 19.4 MB 1.2 MB/s \n",
            "\u001b[?25hCollecting colorama\n",
            "  Downloading colorama-0.4.4-py2.py3-none-any.whl (16 kB)\n",
            "Requirement already satisfied: tweepy>=3.7.0 in /usr/local/lib/python3.7/dist-packages (from konlpy) (3.10.0)\n",
            "Requirement already satisfied: lxml>=4.1.0 in /usr/local/lib/python3.7/dist-packages (from konlpy) (4.2.6)\n",
            "Requirement already satisfied: numpy>=1.6 in /usr/local/lib/python3.7/dist-packages (from konlpy) (1.19.5)\n",
            "Collecting JPype1>=0.7.0\n",
            "  Downloading JPype1-1.3.0-cp37-cp37m-manylinux_2_5_x86_64.manylinux1_x86_64.whl (448 kB)\n",
            "\u001b[K     |████████████████████████████████| 448 kB 52.8 MB/s \n",
            "\u001b[?25hCollecting beautifulsoup4==4.6.0\n",
            "  Downloading beautifulsoup4-4.6.0-py3-none-any.whl (86 kB)\n",
            "\u001b[K     |████████████████████████████████| 86 kB 4.8 MB/s \n",
            "\u001b[?25hRequirement already satisfied: typing-extensions in /usr/local/lib/python3.7/dist-packages (from JPype1>=0.7.0->konlpy) (3.7.4.3)\n",
            "Requirement already satisfied: requests[socks]>=2.11.1 in /usr/local/lib/python3.7/dist-packages (from tweepy>=3.7.0->konlpy) (2.23.0)\n",
            "Requirement already satisfied: requests-oauthlib>=0.7.0 in /usr/local/lib/python3.7/dist-packages (from tweepy>=3.7.0->konlpy) (1.3.0)\n",
            "Requirement already satisfied: six>=1.10.0 in /usr/local/lib/python3.7/dist-packages (from tweepy>=3.7.0->konlpy) (1.15.0)\n",
            "Requirement already satisfied: oauthlib>=3.0.0 in /usr/local/lib/python3.7/dist-packages (from requests-oauthlib>=0.7.0->tweepy>=3.7.0->konlpy) (3.1.1)\n",
            "Requirement already satisfied: certifi>=2017.4.17 in /usr/local/lib/python3.7/dist-packages (from requests[socks]>=2.11.1->tweepy>=3.7.0->konlpy) (2021.5.30)\n",
            "Requirement already satisfied: chardet<4,>=3.0.2 in /usr/local/lib/python3.7/dist-packages (from requests[socks]>=2.11.1->tweepy>=3.7.0->konlpy) (3.0.4)\n",
            "Requirement already satisfied: urllib3!=1.25.0,!=1.25.1,<1.26,>=1.21.1 in /usr/local/lib/python3.7/dist-packages (from requests[socks]>=2.11.1->tweepy>=3.7.0->konlpy) (1.24.3)\n",
            "Requirement already satisfied: idna<3,>=2.5 in /usr/local/lib/python3.7/dist-packages (from requests[socks]>=2.11.1->tweepy>=3.7.0->konlpy) (2.10)\n",
            "Requirement already satisfied: PySocks!=1.5.7,>=1.5.6 in /usr/local/lib/python3.7/dist-packages (from requests[socks]>=2.11.1->tweepy>=3.7.0->konlpy) (1.7.1)\n",
            "Installing collected packages: JPype1, colorama, beautifulsoup4, konlpy\n",
            "  Attempting uninstall: beautifulsoup4\n",
            "    Found existing installation: beautifulsoup4 4.6.3\n",
            "    Uninstalling beautifulsoup4-4.6.3:\n",
            "      Successfully uninstalled beautifulsoup4-4.6.3\n",
            "Successfully installed JPype1-1.3.0 beautifulsoup4-4.6.0 colorama-0.4.4 konlpy-0.5.2\n"
          ],
          "name": "stdout"
        }
      ]
    },
    {
      "cell_type": "code",
      "metadata": {
        "id": "fJX3A3AYxjvl"
      },
      "source": [
        "import pandas as pd\n",
        "import numpy as np\n",
        "import matplotlib.pyplot as plt\n",
        "import re\n",
        "import json\n",
        "import os\n",
        "import tqdm\n",
        "\n",
        "from konlpy.tag import Okt\n",
        "\n",
        "import sklearn\n",
        "from sklearn.preprocessing import LabelEncoder\n",
        "\n",
        "from sklearn.metrics import log_loss, accuracy_score,f1_score\n",
        "import tensorflow as tf\n",
        "from tensorflow.keras.preprocessing.sequence import pad_sequences\n",
        "from tensorflow.keras.preprocessing.text import Tokenizer\n",
        "from tensorflow.keras.callbacks import EarlyStopping, ModelCheckpoint"
      ],
      "execution_count": null,
      "outputs": []
    },
    {
      "cell_type": "code",
      "metadata": {
        "colab": {
          "base_uri": "https://localhost:8080/"
        },
        "id": "aA8nmaku0oIY",
        "outputId": "ad89fb83-f73c-464f-e8a8-4a24f32e482a"
      },
      "source": [
        "from google.colab import drive\n",
        "drive.mount('/content/drive')"
      ],
      "execution_count": null,
      "outputs": [
        {
          "output_type": "stream",
          "text": [
            "Drive already mounted at /content/drive; to attempt to forcibly remount, call drive.mount(\"/content/drive\", force_remount=True).\n"
          ],
          "name": "stdout"
        }
      ]
    },
    {
      "cell_type": "code",
      "metadata": {
        "id": "WamV3AW_xkJu"
      },
      "source": [
        "import pandas as pd\n",
        "\n",
        "train = pd.read_csv(\"/content/drive/MyDrive/dacon 기후기술분류 ai 데이터/train.csv\")\n",
        "labels = pd.read_csv(\"/content/drive/MyDrive/dacon 기후기술분류 ai 데이터/labels_mapping.csv\")"
      ],
      "execution_count": null,
      "outputs": []
    },
    {
      "cell_type": "code",
      "metadata": {
        "id": "PlAmoN3lxurV"
      },
      "source": [
        "test = pd.read_csv(\"/content/drive/MyDrive/dacon 기후기술분류 ai 데이터/test.csv\")\n",
        "sample_submission=pd.read_csv(\"/content/drive/MyDrive/dacon 기후기술분류 ai 데이터/sample_submission.csv\")"
      ],
      "execution_count": null,
      "outputs": []
    },
    {
      "cell_type": "code",
      "metadata": {
        "colab": {
          "base_uri": "https://localhost:8080/"
        },
        "id": "z30VoqP_03Qw",
        "outputId": "e0da5c78-7e61-4cb9-fdd1-62af11f18d65"
      },
      "source": [
        "print(train.columns)"
      ],
      "execution_count": null,
      "outputs": [
        {
          "output_type": "stream",
          "text": [
            "Index(['index', '제출년도', '사업명', '사업_부처명', '계속과제여부', '내역사업명', '과제명', '요약문_연구목표',\n",
            "       '요약문_연구내용', '요약문_기대효과', '요약문_한글키워드', '요약문_영문키워드', 'label'],\n",
            "      dtype='object')\n"
          ],
          "name": "stdout"
        }
      ]
    },
    {
      "cell_type": "code",
      "metadata": {
        "id": "imZdVhQ4x816"
      },
      "source": [
        "#해당 baseline 에서는 과제명 columns만 활용했습니다.\n",
        "#다채로운 변수 활용법으로 성능을 높여주세요!\n",
        "#train=train[['과제명','label']]\n",
        "#test=test[['과제명']]"
      ],
      "execution_count": null,
      "outputs": []
    },
    {
      "cell_type": "code",
      "metadata": {
        "id": "hH4WSB51yBba"
      },
      "source": [
        "#1. re.sub 한글 및 공백을 제외한 문자 제거\n",
        "#2. okt 객체를 활용해 형태소 단위로 나눔\n",
        "#3. remove_stopwords로 불용어 제거 \n",
        "def preprocessing(text, okt, remove_stopwords=False, stop_words=[]):\n",
        "    text=re.sub(\"[^가-힣ㄱ-ㅎㅏ-ㅣ]\",\"\", text)\n",
        "    word_text=okt.morphs(text, stem=True)\n",
        "    if remove_stopwords:\n",
        "        word_review=[token for token in word_text if not token in stop_words]\n",
        "    return word_review\n",
        "\n",
        "stop_words=['은','는','이','가', '하','아','것','들','의','있','되','수','보','주','등','한']\n",
        "okt=Okt()\n",
        "clean_train_text=[]\n",
        "clean_test_text=[]"
      ],
      "execution_count": null,
      "outputs": []
    },
    {
      "cell_type": "code",
      "metadata": {
        "colab": {
          "base_uri": "https://localhost:8080/"
        },
        "id": "sLS9gkAS5N1l",
        "outputId": "993d0ca9-0349-4003-8603-76f683e8c34c"
      },
      "source": [
        "print(test.columns)"
      ],
      "execution_count": null,
      "outputs": [
        {
          "output_type": "stream",
          "text": [
            "Index(['index', '제출년도', '사업명', '사업_부처명', '계속과제여부', '내역사업명', '과제명', '요약문_연구목표',\n",
            "       '요약문_연구내용', '요약문_기대효과', '요약문_한글키워드', '요약문_영문키워드'],\n",
            "      dtype='object')\n"
          ],
          "name": "stdout"
        }
      ]
    },
    {
      "cell_type": "code",
      "metadata": {
        "id": "FMyADsvz5_0F"
      },
      "source": [
        "train=train.dropna()"
      ],
      "execution_count": null,
      "outputs": []
    },
    {
      "cell_type": "code",
      "metadata": {
        "id": "LJ5DR40n6RKS"
      },
      "source": [
        "train=train.reset_index()"
      ],
      "execution_count": null,
      "outputs": []
    },
    {
      "cell_type": "code",
      "metadata": {
        "colab": {
          "base_uri": "https://localhost:8080/",
          "height": 963
        },
        "id": "PF4s0aXf2DvV",
        "outputId": "eea47f62-af10-4304-b338-5805c110d396"
      },
      "source": [
        "train=train.drop(['level_0'],axis=1)\n",
        "train"
      ],
      "execution_count": null,
      "outputs": [
        {
          "output_type": "execute_result",
          "data": {
            "text/html": [
              "<div>\n",
              "<style scoped>\n",
              "    .dataframe tbody tr th:only-of-type {\n",
              "        vertical-align: middle;\n",
              "    }\n",
              "\n",
              "    .dataframe tbody tr th {\n",
              "        vertical-align: top;\n",
              "    }\n",
              "\n",
              "    .dataframe thead th {\n",
              "        text-align: right;\n",
              "    }\n",
              "</style>\n",
              "<table border=\"1\" class=\"dataframe\">\n",
              "  <thead>\n",
              "    <tr style=\"text-align: right;\">\n",
              "      <th></th>\n",
              "      <th>index</th>\n",
              "      <th>제출년도</th>\n",
              "      <th>사업명</th>\n",
              "      <th>사업_부처명</th>\n",
              "      <th>계속과제여부</th>\n",
              "      <th>내역사업명</th>\n",
              "      <th>과제명</th>\n",
              "      <th>요약문_연구목표</th>\n",
              "      <th>요약문_연구내용</th>\n",
              "      <th>요약문_기대효과</th>\n",
              "      <th>요약문_한글키워드</th>\n",
              "      <th>요약문_영문키워드</th>\n",
              "      <th>label</th>\n",
              "    </tr>\n",
              "  </thead>\n",
              "  <tbody>\n",
              "    <tr>\n",
              "      <th>0</th>\n",
              "      <td>0</td>\n",
              "      <td>2016</td>\n",
              "      <td>농업기초기반연구</td>\n",
              "      <td>농촌진흥청</td>\n",
              "      <td>신규</td>\n",
              "      <td>농산물안전성연구</td>\n",
              "      <td>유전정보를 활용한 새로운 해충 분류군 동정기술 개발</td>\n",
              "      <td>○ 새로운 해충분류군의 동정기술 개발 및 유입확산 추적</td>\n",
              "      <td>(가) 외래 및 돌발해충의 발생조사 및 종 동정\\n\\n\\n    ○ 대상해충 : 최...</td>\n",
              "      <td>○ 새로운 돌발 및 외래해충의 신속, 정확한 동정법 향상\\n\\n\\n○ 돌발 및 외래...</td>\n",
              "      <td>뉴클레오티드 염기서열, 분자마커, 종 동정, 침샘, 전사체</td>\n",
              "      <td>nucleotide sequence, molecular marker, species...</td>\n",
              "      <td>24</td>\n",
              "    </tr>\n",
              "    <tr>\n",
              "      <th>1</th>\n",
              "      <td>1</td>\n",
              "      <td>2019</td>\n",
              "      <td>이공학학술연구기반구축(R&amp;D)</td>\n",
              "      <td>교육부</td>\n",
              "      <td>신규</td>\n",
              "      <td>지역대학우수과학자지원사업(1년~5년)</td>\n",
              "      <td>대장암의 TRAIL 내성 표적 인자 발굴 및 TRAIL 반응 예측 유전자 지도 구축...</td>\n",
              "      <td>최종목표:  TRAIL 감수성 표적 유전자를 발굴하고 내성제어 기전을 연구. 발굴된...</td>\n",
              "      <td>1차년도\\n1) Microarray를 통한 선천적 TRAIL 내성 표적 후보 유전자...</td>\n",
              "      <td>1) TRAIL 내성 특이적 표적분자를 발굴하고, 이를 이용한 TRAIL 효과 증진...</td>\n",
              "      <td>대장암,항암제 내성,세포사멸,유전자발굴</td>\n",
              "      <td>TRAIL,Colorectal cancer,TRAIL resistance,Apopt...</td>\n",
              "      <td>0</td>\n",
              "    </tr>\n",
              "    <tr>\n",
              "      <th>2</th>\n",
              "      <td>2</td>\n",
              "      <td>2016</td>\n",
              "      <td>중소기업기술혁신개발</td>\n",
              "      <td>중소기업청</td>\n",
              "      <td>신규</td>\n",
              "      <td>혁신기업기술개발</td>\n",
              "      <td>비목질계 셀룰로오스 식물자원을 활용한 기능성 부직포 및 고부가가치 뷰티케어 faci...</td>\n",
              "      <td>* 식물계자원 정련 및 최적 신서란 파이버 기초연구 개발\\n\\n\\n* 소비자 및 바...</td>\n",
              "      <td>* 식물계자원 정련 및 최적 신서란 파이버 기초연구 개발\\n\\n\\n- Tencel/...</td>\n",
              "      <td>* 국내 독자적인 비목질계 셀룰로오스 자원의 파이버 및 부직포 제조 등의 기술 확보...</td>\n",
              "      <td>기능성 샐룰로오스 파이버,천연섬유,기능성 부직포,뷰티&amp;amp;케어 제품,미용 솜</td>\n",
              "      <td>functional cellulose fiber,natural fiber,funct...</td>\n",
              "      <td>0</td>\n",
              "    </tr>\n",
              "    <tr>\n",
              "      <th>3</th>\n",
              "      <td>3</td>\n",
              "      <td>2018</td>\n",
              "      <td>창업성장기술개발(R&amp;D)</td>\n",
              "      <td>중소벤처기업부</td>\n",
              "      <td>신규</td>\n",
              "      <td>창업사업화연계과제</td>\n",
              "      <td>소화기 암 진단용 분자영상 형광프로브 개발</td>\n",
              "      <td>#  암특이적 바이오마커 발굴 및 바이오마커에 대한 프로브 개발\\n\\n\\n1) 소화...</td>\n",
              "      <td># 소화기 암 진단용 분자영상 형광프로브 개발\\n\\n\\n- 국소 도포형 소화기 암 ...</td>\n",
              "      <td># 암 진단기술의 차별성: 소화기 암 특이 프로브 개발\\n\\n\\n- 최근 체외진단시...</td>\n",
              "      <td>분자 진단,형광 조영제,프로브,항체,대장암</td>\n",
              "      <td>Molecular diagnosis,Fluorescence,probe,antibod...</td>\n",
              "      <td>0</td>\n",
              "    </tr>\n",
              "    <tr>\n",
              "      <th>4</th>\n",
              "      <td>4</td>\n",
              "      <td>2016</td>\n",
              "      <td>이공학개인기초연구지원</td>\n",
              "      <td>교육부</td>\n",
              "      <td>계속</td>\n",
              "      <td>기본연구지원</td>\n",
              "      <td>위암환자의 항암제반응예측을 위한 BRCA 발현검사</td>\n",
              "      <td>수술이 불가능한 위암환자는 생존기간은 10개월 안팎에 지나지 않고, 항암화학요법에 ...</td>\n",
              "      <td>-In situ hybridization 검사의 정확성을 확인하기 위해 위암세포주 ...</td>\n",
              "      <td>-본 연구는 파라핀보관조직에서 in situ hybridization로 mRNA 및...</td>\n",
              "      <td>BRCA,제자리부합법,조직미세배열,마이크로RNA,위암,항암제반응,젊은 연령/가족성 위암</td>\n",
              "      <td>BRCA,Insituhybridization,tissuemicroarray,micr...</td>\n",
              "      <td>0</td>\n",
              "    </tr>\n",
              "    <tr>\n",
              "      <th>...</th>\n",
              "      <td>...</td>\n",
              "      <td>...</td>\n",
              "      <td>...</td>\n",
              "      <td>...</td>\n",
              "      <td>...</td>\n",
              "      <td>...</td>\n",
              "      <td>...</td>\n",
              "      <td>...</td>\n",
              "      <td>...</td>\n",
              "      <td>...</td>\n",
              "      <td>...</td>\n",
              "      <td>...</td>\n",
              "      <td>...</td>\n",
              "    </tr>\n",
              "    <tr>\n",
              "      <th>171133</th>\n",
              "      <td>174299</td>\n",
              "      <td>2016</td>\n",
              "      <td>개인연구지원</td>\n",
              "      <td>미래창조과학부</td>\n",
              "      <td>신규</td>\n",
              "      <td>중견연구</td>\n",
              "      <td>혈관내막 증식을 치료하기 위한 표적분자 발굴</td>\n",
              "      <td>증식성 혈관질환과 염증반응과의 관련성이 높으나, 혈관평활근세포의 탈분화를 유도하는 ...</td>\n",
              "      <td>● 1차년: 혈관내막 증식과 관련된 표적분자 발굴 및 염증세포의 활성과 분화에 대한...</td>\n",
              "      <td>심혈관 질환 발생의 새로운 기전 규명뿐만 아니라  제어할 수 있는 새로운 방법을 탐...</td>\n",
              "      <td>혈관내막 증식,혈관 개조,혈관평활근세포,염증세포,혈관염증,혈관평활근세포 탈분화,표적분자</td>\n",
              "      <td>Intimahyperplasia,Vascularremodeling,Vasculars...</td>\n",
              "      <td>0</td>\n",
              "    </tr>\n",
              "    <tr>\n",
              "      <th>171134</th>\n",
              "      <td>174300</td>\n",
              "      <td>2016</td>\n",
              "      <td>개인연구지원</td>\n",
              "      <td>미래창조과학부</td>\n",
              "      <td>신규</td>\n",
              "      <td>중견연구</td>\n",
              "      <td>삼킴곤란 개선을 위한 물성조절 식품시스템에서의 유동층과립 복합소재의 유변물성 변화 ...</td>\n",
              "      <td>삼킴곤란을 겪고 있는 고령자의 안전한 식품섭취는 삼킴에 적합한 유변물성을 가진 물성...</td>\n",
              "      <td>본 연구에서는 여러 가지 유변물성 측정기술을 이용하여 고령자의 삼킴곤란 개선을 위해...</td>\n",
              "      <td>○ 그 동안 연구되지 않은 다양한 물성조절 검복합 소재의 과립제형 및 유변물성 연구...</td>\n",
              "      <td>삼킴곤란,유변물성,유동층과립,물리적 특성,검복합물</td>\n",
              "      <td>Swallowingdifficulty,Rheologicalproperty,Fludi...</td>\n",
              "      <td>0</td>\n",
              "    </tr>\n",
              "    <tr>\n",
              "      <th>171135</th>\n",
              "      <td>174301</td>\n",
              "      <td>2018</td>\n",
              "      <td>이공학학술연구기반구축(R&amp;D)</td>\n",
              "      <td>교육부</td>\n",
              "      <td>계속</td>\n",
              "      <td>이공분야학문후속세대양성_대통령POST_DOC펠로우쉽</td>\n",
              "      <td>식물 유전체 정보 고도화 및 핵심 유전자 군 진화연구</td>\n",
              "      <td>지난 10년여 동안 100여종에 대한 식물 유전체 정보가 완성되어 공개되었지만, 애...</td>\n",
              "      <td>○ 공개된 식물 유전체 정보 및 대상 유전자 군 선발\\n\\n   - 공개된 식물 유...</td>\n",
              "      <td>- 본 과제에서 개발한 annotation tool은 유전체 고도화 부분에서 가장 ...</td>\n",
              "      <td>유전자 정보 고도화,대상 유전자 군 재분석,비교 유전체 진화 분석,공개 식물 유전체...</td>\n",
              "      <td>Gene model improvement,Target gene family re-a...</td>\n",
              "      <td>0</td>\n",
              "    </tr>\n",
              "    <tr>\n",
              "      <th>171136</th>\n",
              "      <td>174302</td>\n",
              "      <td>2019</td>\n",
              "      <td>수요자맞춤형육종자원대량신속발굴기술개발(R&amp;D)</td>\n",
              "      <td>농촌진흥청</td>\n",
              "      <td>신규</td>\n",
              "      <td>유용형질 대량 특성평가를 통한 육종모본 발굴</td>\n",
              "      <td>콩 유전자원 내건성, 내습성 대량평가 체계구축 및 자원선발</td>\n",
              "      <td>1) 내건 및 내습성 유전자원 수집\\n\\n2) 내건성 자원평가 체계구축\\n\\n3) ...</td>\n",
              "      <td>[1차 년도(2019)] \\n\\n1) 내건 및 내습성 유전자원 수집\\n\\n○ 기존 ...</td>\n",
              "      <td>○ 내건성 및 내습성 특성평가 체계구축 및 우수자원 발굴로 내재해성 콩 품종육성 자...</td>\n",
              "      <td>콩, 가공적성, 병 저항성, 내재해성, 콩모자이크바이러스</td>\n",
              "      <td>soybean, food application, resistance, biotic-...</td>\n",
              "      <td>23</td>\n",
              "    </tr>\n",
              "    <tr>\n",
              "      <th>171137</th>\n",
              "      <td>174303</td>\n",
              "      <td>2019</td>\n",
              "      <td>이공학학술연구기반구축(R&amp;D)</td>\n",
              "      <td>교육부</td>\n",
              "      <td>신규</td>\n",
              "      <td>이공분야학문후속세대양성_박사후국내연수</td>\n",
              "      <td>광학적 위상 제어 기법을 적용한 디지털 홀로그래피 현미경 시스템 개발</td>\n",
              "      <td>본 연구의 목적은 이터븀이 도핑된 특수 광섬유를 이용하여 광학적인 방법으로 위상(P...</td>\n",
              "      <td>◦ 1차년도 연구개발 내용\\n   : 광섬유 비선형 굴절률 변화 효과를 이용한 광학...</td>\n",
              "      <td>본 연구를 통해 확보하고자 하는 안정적으로 위상 특성 제어를 통해 DHM 시스템을 ...</td>\n",
              "      <td>광섬유,위상장금,위상이동,간섭계,디지털홀로그래피,비축,복원,이터듐</td>\n",
              "      <td>fiber,phase locking,phase shift,interferometer...</td>\n",
              "      <td>0</td>\n",
              "    </tr>\n",
              "  </tbody>\n",
              "</table>\n",
              "<p>171138 rows × 13 columns</p>\n",
              "</div>"
            ],
            "text/plain": [
              "         index  제출년도  ...                                          요약문_영문키워드 label\n",
              "0            0  2016  ...  nucleotide sequence, molecular marker, species...    24\n",
              "1            1  2019  ...  TRAIL,Colorectal cancer,TRAIL resistance,Apopt...     0\n",
              "2            2  2016  ...  functional cellulose fiber,natural fiber,funct...     0\n",
              "3            3  2018  ...  Molecular diagnosis,Fluorescence,probe,antibod...     0\n",
              "4            4  2016  ...  BRCA,Insituhybridization,tissuemicroarray,micr...     0\n",
              "...        ...   ...  ...                                                ...   ...\n",
              "171133  174299  2016  ...  Intimahyperplasia,Vascularremodeling,Vasculars...     0\n",
              "171134  174300  2016  ...  Swallowingdifficulty,Rheologicalproperty,Fludi...     0\n",
              "171135  174301  2018  ...  Gene model improvement,Target gene family re-a...     0\n",
              "171136  174302  2019  ...  soybean, food application, resistance, biotic-...    23\n",
              "171137  174303  2019  ...  fiber,phase locking,phase shift,interferometer...     0\n",
              "\n",
              "[171138 rows x 13 columns]"
            ]
          },
          "metadata": {
            "tags": []
          },
          "execution_count": 32
        }
      ]
    },
    {
      "cell_type": "code",
      "metadata": {
        "colab": {
          "base_uri": "https://localhost:8080/"
        },
        "id": "0U2WjIkp2MwX",
        "outputId": "34d51c9d-e57d-4bf9-d602-480440fc38e7"
      },
      "source": [
        "train['합계']=str(0)\n",
        "train['합계']=train['사업명']+\" \"+train['사업_부처명']+\" \"+train[\"과제명\"]+\" \"+train[\"요약문_한글키워드\"]\n",
        "train['합계']"
      ],
      "execution_count": null,
      "outputs": [
        {
          "output_type": "execute_result",
          "data": {
            "text/plain": [
              "0         농업기초기반연구 농촌진흥청 유전정보를 활용한 새로운 해충 분류군 동정기술 개발 뉴클...\n",
              "1         이공학학술연구기반구축(R&D) 교육부 대장암의 TRAIL 내성 표적 인자 발굴 및 ...\n",
              "2         중소기업기술혁신개발 중소기업청 비목질계 셀룰로오스 식물자원을 활용한 기능성 부직포 ...\n",
              "3         창업성장기술개발(R&D) 중소벤처기업부 소화기 암 진단용 분자영상 형광프로브 개발 ...\n",
              "4         이공학개인기초연구지원 교육부 위암환자의 항암제반응예측을 위한 BRCA 발현검사 BR...\n",
              "                                ...                        \n",
              "171133    개인연구지원 미래창조과학부 혈관내막 증식을 치료하기 위한 표적분자 발굴 혈관내막 증...\n",
              "171134    개인연구지원 미래창조과학부 삼킴곤란 개선을 위한 물성조절 식품시스템에서의 유동층과립...\n",
              "171135    이공학학술연구기반구축(R&D) 교육부 식물 유전체 정보 고도화 및 핵심 유전자 군 ...\n",
              "171136    수요자맞춤형육종자원대량신속발굴기술개발(R&D) 농촌진흥청 콩 유전자원 내건성, 내습...\n",
              "171137    이공학학술연구기반구축(R&D) 교육부 광학적 위상 제어 기법을 적용한 디지털 홀로그...\n",
              "Name: 합계, Length: 171138, dtype: object"
            ]
          },
          "metadata": {
            "tags": []
          },
          "execution_count": 36
        }
      ]
    },
    {
      "cell_type": "code",
      "metadata": {
        "colab": {
          "base_uri": "https://localhost:8080/"
        },
        "id": "ZJgjj4g23Bk0",
        "outputId": "e29d1f14-4c92-44ce-bca3-82ea6fa276ff"
      },
      "source": [
        "test['합계']=str(0)\n",
        "test['합계']=test['사업명']+\" \"+test['사업_부처명']+\" \"+test[\"과제명\"]+\" \"+test[\"요약문_한글키워드\"]\n",
        "test['합계']"
      ],
      "execution_count": null,
      "outputs": [
        {
          "output_type": "execute_result",
          "data": {
            "text/plain": [
              "0        경제협력권산업육성 산업통상자원부 R-FSSW 기술 적용 경량 차체 부품 개발 및 품...\n",
              "1        개인기초연구(과기정통부)(R&D) 과학기술정보통신부 다입자계를 묘사하는 편미분방정식...\n",
              "2        개인기초연구(미래부) 과학기술정보통신부 저출생체중아 가족을 위한 지역사회중심의 퇴원...\n",
              "3        산학연협력기술개발(R&D) 중소벤처기업부 폴리싱용 5축 CNC 정밀 마이크로 시스템...\n",
              "4        이공학학술연구기반구축(R&D) 교육부 다결정재료의 미세조직구조를 고려한 확률론적 응...\n",
              "                               ...                        \n",
              "43571    고부가가치식품기술개발 농림축산식품부 포장용 인디케이팅 잉크 제조기술 개발 및 인쇄 ...\n",
              "43572    산업기술국제협력 산업통상자원부 루시아-신속/정확/저렴한 현장진단용 혁신적 혈액진단 ...\n",
              "43573    국제핵융합실험로공동개발사업(일반+기금) 미래창조과학부 ITER 삼중수소 저장·공급 ...\n",
              "43574    집단연구지원(R&D) 과학기술정보통신부 무결정립계 금속 초박막의 제조 및 이를 활용...\n",
              "43575    산업집적지경쟁력강화 산업통상자원부 산업용 M30 SUS Bolt의 생산성 향상 제조...\n",
              "Name: 합계, Length: 43576, dtype: object"
            ]
          },
          "metadata": {
            "tags": []
          },
          "execution_count": 37
        }
      ]
    },
    {
      "cell_type": "code",
      "metadata": {
        "colab": {
          "base_uri": "https://localhost:8080/"
        },
        "id": "_lX1maFyyEAF",
        "outputId": "49b67808-d658-487a-91e2-11b7b1e912a6"
      },
      "source": [
        "#시간이 많이 걸립니다.\n",
        "for text in tqdm.tqdm(train['합계']):\n",
        "  try:\n",
        "    clean_train_text.append(preprocessing(text, okt, remove_stopwords=True, stop_words=stop_words))\n",
        "  except:\n",
        "    clean_train_text.append([])"
      ],
      "execution_count": null,
      "outputs": [
        {
          "output_type": "stream",
          "text": [
            "100%|██████████| 171138/171138 [3:35:11<00:00, 13.26it/s]\n"
          ],
          "name": "stderr"
        }
      ]
    },
    {
      "cell_type": "code",
      "metadata": {
        "colab": {
          "base_uri": "https://localhost:8080/"
        },
        "id": "2LSY5yLm25J7",
        "outputId": "7603f06d-48fb-45dd-fafd-aca92ce717eb"
      },
      "source": [
        "for text in tqdm.tqdm(test['합계']):\n",
        "    try:\n",
        "      clean_test_text.append(preprocessing(text, okt, remove_stopwords=True, stop_words=stop_words))\n",
        "    except:\n",
        "      clean_test_text.append([])"
      ],
      "execution_count": null,
      "outputs": [
        {
          "output_type": "stream",
          "text": [
            "100%|██████████| 43576/43576 [1:09:26<00:00, 10.46it/s]\n"
          ],
          "name": "stderr"
        }
      ]
    },
    {
      "cell_type": "code",
      "metadata": {
        "colab": {
          "base_uri": "https://localhost:8080/"
        },
        "id": "ocTvE6BIyGsF",
        "outputId": "fe3ed9cb-e907-445c-ed9c-6dc61b8666c2"
      },
      "source": [
        "#텐서플로의 전처리 모듈을 활용해 토크나이징 객체를 만든 후 인덱스 벡터로 전환\n",
        "tokenizer=Tokenizer()\n",
        "tokenizer.fit_on_texts(clean_train_text)\n",
        "\n",
        "train_sequences=tokenizer.texts_to_sequences(clean_train_text)\n",
        "test_sequences=tokenizer.texts_to_sequences(clean_test_text)\n",
        "word_vocab=tokenizer.word_index\n",
        "\n",
        "#패딩 처리\n",
        "train_inputs=pad_sequences(train_sequences, maxlen=40, padding='post')\n",
        "test_inputs=pad_sequences(test_sequences, maxlen=40, padding='post')\n",
        "\n",
        "print(train_inputs.shape)\n",
        "print(test_inputs.shape)"
      ],
      "execution_count": null,
      "outputs": [
        {
          "output_type": "stream",
          "text": [
            "(171138, 40)\n",
            "(43576, 40)\n"
          ],
          "name": "stdout"
        }
      ]
    },
    {
      "cell_type": "code",
      "metadata": {
        "id": "nNXfY2QLNv2j"
      },
      "source": [
        ""
      ],
      "execution_count": null,
      "outputs": []
    },
    {
      "cell_type": "code",
      "metadata": {
        "id": "JSPuK77YyKhp"
      },
      "source": [
        "\n",
        "data_configs={}\n",
        "data_configs['vocab']=word_vocab\n",
        "data_configs['vocab_size'] = len(word_vocab)+1"
      ],
      "execution_count": null,
      "outputs": []
    },
    {
      "cell_type": "code",
      "metadata": {
        "colab": {
          "base_uri": "https://localhost:8080/"
        },
        "id": "izIMCm9MyXIA",
        "outputId": "fb2e0915-298d-42ff-bfc7-37a7324b2491"
      },
      "source": [
        "#파라미터 설정\n",
        "vocab_size =data_configs['vocab_size']\n",
        "embedding_dim = 32\n",
        "max_length = 40\n",
        "oov_tok = \"<OOV>\"\n",
        "\n",
        "#가벼운 NLP모델 생성\n",
        "model = tf.keras.Sequential([\n",
        "    tf.keras.layers.Embedding(vocab_size, embedding_dim, input_length=max_length),\n",
        "    tf.keras.layers.GlobalAveragePooling1D(),\n",
        "    tf.keras.layers.Dense(128, activation='relu'),\n",
        "    tf.keras.layers.Dense(46, activation='softmax')\n",
        "])\n",
        "\n",
        "# compile model\n",
        "model.compile(loss='sparse_categorical_crossentropy',\n",
        "              optimizer='adam',\n",
        "              metrics=['accuracy'])\n",
        "\n",
        "# model summary\n",
        "print(model.summary())"
      ],
      "execution_count": null,
      "outputs": [
        {
          "output_type": "stream",
          "text": [
            "Model: \"sequential\"\n",
            "_________________________________________________________________\n",
            "Layer (type)                 Output Shape              Param #   \n",
            "=================================================================\n",
            "embedding (Embedding)        (None, 40, 32)            1468576   \n",
            "_________________________________________________________________\n",
            "global_average_pooling1d (Gl (None, 32)                0         \n",
            "_________________________________________________________________\n",
            "dense (Dense)                (None, 128)               4224      \n",
            "_________________________________________________________________\n",
            "dense_1 (Dense)              (None, 46)                5934      \n",
            "=================================================================\n",
            "Total params: 1,478,734\n",
            "Trainable params: 1,478,734\n",
            "Non-trainable params: 0\n",
            "_________________________________________________________________\n",
            "None\n"
          ],
          "name": "stdout"
        }
      ]
    },
    {
      "cell_type": "code",
      "metadata": {
        "colab": {
          "base_uri": "https://localhost:8080/"
        },
        "id": "JVKtzXrD_JHE",
        "outputId": "9423de93-27a7-40bd-91b3-d8c78b1b7dfc"
      },
      "source": [
        "labels=np.array(train['label'])\n",
        "len(set(labels))"
      ],
      "execution_count": null,
      "outputs": [
        {
          "output_type": "execute_result",
          "data": {
            "text/plain": [
              "46"
            ]
          },
          "metadata": {
            "tags": []
          },
          "execution_count": 44
        }
      ]
    },
    {
      "cell_type": "code",
      "metadata": {
        "id": "7x_qMRbqzTHn"
      },
      "source": [
        "from tensorflow.keras.callbacks import EarlyStopping\n",
        "es = EarlyStopping(monitor='val_loss', verbose=1, patience=2, mode='min')"
      ],
      "execution_count": null,
      "outputs": []
    },
    {
      "cell_type": "code",
      "metadata": {
        "colab": {
          "base_uri": "https://localhost:8080/"
        },
        "id": "mQVQn5JUyZZ_",
        "outputId": "c1c0b3ac-e513-4f68-de8f-d870f0b4413a"
      },
      "source": [
        "# fit model\n",
        "num_epochs = 30\n",
        "history = model.fit(train_inputs, labels, \n",
        "                    epochs=num_epochs, verbose=2, \n",
        "                    validation_split=0.2,callbacks = [es])"
      ],
      "execution_count": null,
      "outputs": [
        {
          "output_type": "stream",
          "text": [
            "Epoch 1/30\n",
            "4279/4279 - 35s - loss: 0.7476 - accuracy: 0.8381 - val_loss: 0.5293 - val_accuracy: 0.8592\n",
            "Epoch 2/30\n",
            "4279/4279 - 34s - loss: 0.4042 - accuracy: 0.8869 - val_loss: 0.4144 - val_accuracy: 0.8861\n",
            "Epoch 3/30\n",
            "4279/4279 - 34s - loss: 0.2907 - accuracy: 0.9135 - val_loss: 0.3736 - val_accuracy: 0.8951\n",
            "Epoch 4/30\n",
            "4279/4279 - 34s - loss: 0.2272 - accuracy: 0.9303 - val_loss: 0.3684 - val_accuracy: 0.9007\n",
            "Epoch 5/30\n",
            "4279/4279 - 34s - loss: 0.1853 - accuracy: 0.9425 - val_loss: 0.3701 - val_accuracy: 0.9058\n",
            "Epoch 6/30\n",
            "4279/4279 - 34s - loss: 0.1550 - accuracy: 0.9511 - val_loss: 0.3921 - val_accuracy: 0.9066\n",
            "Epoch 00006: early stopping\n"
          ],
          "name": "stdout"
        }
      ]
    },
    {
      "cell_type": "code",
      "metadata": {
        "colab": {
          "base_uri": "https://localhost:8080/",
          "height": 419
        },
        "id": "1h2vQvnCyd3F",
        "outputId": "62cda13a-216e-48db-b01c-17970c738117"
      },
      "source": [
        "#평가지표가 Macro F1이기에 확률값으로 결과를 내면 안됩니다.\n",
        "pred=model.predict(test_inputs)\n",
        "pred=tf.argmax(pred, axis=1)\n",
        "\n",
        "sample_submission['label']=pred\n",
        "\n",
        "sample_submission"
      ],
      "execution_count": null,
      "outputs": [
        {
          "output_type": "execute_result",
          "data": {
            "text/html": [
              "<div>\n",
              "<style scoped>\n",
              "    .dataframe tbody tr th:only-of-type {\n",
              "        vertical-align: middle;\n",
              "    }\n",
              "\n",
              "    .dataframe tbody tr th {\n",
              "        vertical-align: top;\n",
              "    }\n",
              "\n",
              "    .dataframe thead th {\n",
              "        text-align: right;\n",
              "    }\n",
              "</style>\n",
              "<table border=\"1\" class=\"dataframe\">\n",
              "  <thead>\n",
              "    <tr style=\"text-align: right;\">\n",
              "      <th></th>\n",
              "      <th>index</th>\n",
              "      <th>label</th>\n",
              "    </tr>\n",
              "  </thead>\n",
              "  <tbody>\n",
              "    <tr>\n",
              "      <th>0</th>\n",
              "      <td>174304</td>\n",
              "      <td>0</td>\n",
              "    </tr>\n",
              "    <tr>\n",
              "      <th>1</th>\n",
              "      <td>174305</td>\n",
              "      <td>0</td>\n",
              "    </tr>\n",
              "    <tr>\n",
              "      <th>2</th>\n",
              "      <td>174306</td>\n",
              "      <td>0</td>\n",
              "    </tr>\n",
              "    <tr>\n",
              "      <th>3</th>\n",
              "      <td>174307</td>\n",
              "      <td>0</td>\n",
              "    </tr>\n",
              "    <tr>\n",
              "      <th>4</th>\n",
              "      <td>174308</td>\n",
              "      <td>0</td>\n",
              "    </tr>\n",
              "    <tr>\n",
              "      <th>...</th>\n",
              "      <td>...</td>\n",
              "      <td>...</td>\n",
              "    </tr>\n",
              "    <tr>\n",
              "      <th>43571</th>\n",
              "      <td>217875</td>\n",
              "      <td>0</td>\n",
              "    </tr>\n",
              "    <tr>\n",
              "      <th>43572</th>\n",
              "      <td>217876</td>\n",
              "      <td>0</td>\n",
              "    </tr>\n",
              "    <tr>\n",
              "      <th>43573</th>\n",
              "      <td>217877</td>\n",
              "      <td>2</td>\n",
              "    </tr>\n",
              "    <tr>\n",
              "      <th>43574</th>\n",
              "      <td>217878</td>\n",
              "      <td>0</td>\n",
              "    </tr>\n",
              "    <tr>\n",
              "      <th>43575</th>\n",
              "      <td>217879</td>\n",
              "      <td>0</td>\n",
              "    </tr>\n",
              "  </tbody>\n",
              "</table>\n",
              "<p>43576 rows × 2 columns</p>\n",
              "</div>"
            ],
            "text/plain": [
              "        index  label\n",
              "0      174304      0\n",
              "1      174305      0\n",
              "2      174306      0\n",
              "3      174307      0\n",
              "4      174308      0\n",
              "...       ...    ...\n",
              "43571  217875      0\n",
              "43572  217876      0\n",
              "43573  217877      2\n",
              "43574  217878      0\n",
              "43575  217879      0\n",
              "\n",
              "[43576 rows x 2 columns]"
            ]
          },
          "metadata": {
            "tags": []
          },
          "execution_count": 48
        }
      ]
    },
    {
      "cell_type": "code",
      "metadata": {
        "id": "AZFSvgkZymOO"
      },
      "source": [
        "sample_submission.to_csv('/content/drive/MyDrive/dacon 기후기술분류 ai 데이터/baseline.csv', index=False) #0.64"
      ],
      "execution_count": null,
      "outputs": []
    },
    {
      "cell_type": "code",
      "metadata": {
        "id": "gW6GRoshyqS3"
      },
      "source": [
        ""
      ],
      "execution_count": null,
      "outputs": []
    },
    {
      "cell_type": "code",
      "metadata": {
        "id": "Yq2EpGz3kXfJ"
      },
      "source": [
        ""
      ],
      "execution_count": null,
      "outputs": []
    },
    {
      "cell_type": "code",
      "metadata": {
        "id": "DVvCJ5UikXip"
      },
      "source": [
        "from tensorflow.keras.optimizers import Adam\n",
        "import tensorflow as tf\n",
        "from tensorflow.keras.layers import Embedding, LSTM, Dense, Bidirectional, Dropout,Conv1D, GlobalMaxPooling1D, MaxPooling1D, SpatialDropout1D\n",
        "\n",
        "#CNN_BiLSTM_preprocessing0 -> Embedding dim 좀 작게(32) 정도로 해도 될듯?\n",
        "model = tf.keras.Sequential([\n",
        "    Embedding(vocab_size, 100, input_length =max_length),\n",
        "    Bidirectional(LSTM(128, return_sequences=True)),\n",
        "    Conv1D(filters=128, kernel_size=5, padding='same', activation='relu'),\n",
        "    GlobalMaxPooling1D(),\n",
        "    Dropout(0.25),\n",
        "    # Bidirectional(LSTM(100), return_sequences=True),\n",
        "    Dense(128, activation='relu'),\n",
        "    Dense(46, activation='softmax')\n",
        "])\n",
        "\n",
        "model.compile(loss='sparse_categorical_crossentropy', optimizer=Adam(learning_rate=0.001), metrics=['accuracy'])"
      ],
      "execution_count": null,
      "outputs": []
    },
    {
      "cell_type": "code",
      "metadata": {
        "colab": {
          "base_uri": "https://localhost:8080/"
        },
        "id": "bYLOdlh_kZBF",
        "outputId": "e4f45913-ffe3-429f-8e37-5ff0cce627f8"
      },
      "source": [
        "history = model.fit(train_inputs, labels, validation_split=0.2, epochs=20, batch_size=128 ,callbacks = [es])"
      ],
      "execution_count": null,
      "outputs": [
        {
          "output_type": "stream",
          "text": [
            "Epoch 1/20\n",
            "1070/1070 [==============================] - 357s 331ms/step - loss: 0.6840 - accuracy: 0.8470 - val_loss: 0.4551 - val_accuracy: 0.8786\n",
            "Epoch 2/20\n",
            "1070/1070 [==============================] - 352s 329ms/step - loss: 0.3674 - accuracy: 0.8948 - val_loss: 0.3859 - val_accuracy: 0.8934\n",
            "Epoch 3/20\n",
            "1070/1070 [==============================] - 353s 330ms/step - loss: 0.2642 - accuracy: 0.9190 - val_loss: 0.3558 - val_accuracy: 0.9036\n",
            "Epoch 4/20\n",
            "1070/1070 [==============================] - 353s 330ms/step - loss: 0.1965 - accuracy: 0.9381 - val_loss: 0.3686 - val_accuracy: 0.9100\n",
            "Epoch 5/20\n",
            "1070/1070 [==============================] - 353s 330ms/step - loss: 0.1560 - accuracy: 0.9500 - val_loss: 0.3946 - val_accuracy: 0.9117\n",
            "Epoch 00005: early stopping\n"
          ],
          "name": "stdout"
        }
      ]
    },
    {
      "cell_type": "code",
      "metadata": {
        "colab": {
          "base_uri": "https://localhost:8080/"
        },
        "id": "SoxsRlPO64wR",
        "outputId": "0a5a483a-9f72-4865-fada-9d85f7550ccc"
      },
      "source": [
        "model.summary()"
      ],
      "execution_count": null,
      "outputs": [
        {
          "output_type": "stream",
          "text": [
            "Model: \"sequential_2\"\n",
            "_________________________________________________________________\n",
            "Layer (type)                 Output Shape              Param #   \n",
            "=================================================================\n",
            "embedding_2 (Embedding)      (None, 40, 100)           4589300   \n",
            "_________________________________________________________________\n",
            "bidirectional_1 (Bidirection (None, 40, 256)           234496    \n",
            "_________________________________________________________________\n",
            "conv1d_1 (Conv1D)            (None, 40, 128)           163968    \n",
            "_________________________________________________________________\n",
            "global_max_pooling1d_1 (Glob (None, 128)               0         \n",
            "_________________________________________________________________\n",
            "dropout_1 (Dropout)          (None, 128)               0         \n",
            "_________________________________________________________________\n",
            "dense_4 (Dense)              (None, 128)               16512     \n",
            "_________________________________________________________________\n",
            "dense_5 (Dense)              (None, 46)                5934      \n",
            "=================================================================\n",
            "Total params: 5,010,210\n",
            "Trainable params: 5,010,210\n",
            "Non-trainable params: 0\n",
            "_________________________________________________________________\n"
          ],
          "name": "stdout"
        }
      ]
    },
    {
      "cell_type": "code",
      "metadata": {
        "colab": {
          "base_uri": "https://localhost:8080/",
          "height": 419
        },
        "id": "XebOHGXbke0Z",
        "outputId": "fa3fc650-68fc-4c06-d57f-8844de4b8586"
      },
      "source": [
        "#평가지표가 Macro F1이기에 확률값으로 결과를 내면 안됩니다.\n",
        "pred=model.predict(test_inputs)\n",
        "pred=tf.argmax(pred, axis=1)\n",
        "\n",
        "sample_submission['label']=pred\n",
        "\n",
        "sample_submission"
      ],
      "execution_count": null,
      "outputs": [
        {
          "output_type": "execute_result",
          "data": {
            "text/html": [
              "<div>\n",
              "<style scoped>\n",
              "    .dataframe tbody tr th:only-of-type {\n",
              "        vertical-align: middle;\n",
              "    }\n",
              "\n",
              "    .dataframe tbody tr th {\n",
              "        vertical-align: top;\n",
              "    }\n",
              "\n",
              "    .dataframe thead th {\n",
              "        text-align: right;\n",
              "    }\n",
              "</style>\n",
              "<table border=\"1\" class=\"dataframe\">\n",
              "  <thead>\n",
              "    <tr style=\"text-align: right;\">\n",
              "      <th></th>\n",
              "      <th>index</th>\n",
              "      <th>label</th>\n",
              "    </tr>\n",
              "  </thead>\n",
              "  <tbody>\n",
              "    <tr>\n",
              "      <th>0</th>\n",
              "      <td>174304</td>\n",
              "      <td>0</td>\n",
              "    </tr>\n",
              "    <tr>\n",
              "      <th>1</th>\n",
              "      <td>174305</td>\n",
              "      <td>0</td>\n",
              "    </tr>\n",
              "    <tr>\n",
              "      <th>2</th>\n",
              "      <td>174306</td>\n",
              "      <td>0</td>\n",
              "    </tr>\n",
              "    <tr>\n",
              "      <th>3</th>\n",
              "      <td>174307</td>\n",
              "      <td>0</td>\n",
              "    </tr>\n",
              "    <tr>\n",
              "      <th>4</th>\n",
              "      <td>174308</td>\n",
              "      <td>1</td>\n",
              "    </tr>\n",
              "    <tr>\n",
              "      <th>...</th>\n",
              "      <td>...</td>\n",
              "      <td>...</td>\n",
              "    </tr>\n",
              "    <tr>\n",
              "      <th>43571</th>\n",
              "      <td>217875</td>\n",
              "      <td>0</td>\n",
              "    </tr>\n",
              "    <tr>\n",
              "      <th>43572</th>\n",
              "      <td>217876</td>\n",
              "      <td>0</td>\n",
              "    </tr>\n",
              "    <tr>\n",
              "      <th>43573</th>\n",
              "      <td>217877</td>\n",
              "      <td>2</td>\n",
              "    </tr>\n",
              "    <tr>\n",
              "      <th>43574</th>\n",
              "      <td>217878</td>\n",
              "      <td>0</td>\n",
              "    </tr>\n",
              "    <tr>\n",
              "      <th>43575</th>\n",
              "      <td>217879</td>\n",
              "      <td>0</td>\n",
              "    </tr>\n",
              "  </tbody>\n",
              "</table>\n",
              "<p>43576 rows × 2 columns</p>\n",
              "</div>"
            ],
            "text/plain": [
              "        index  label\n",
              "0      174304      0\n",
              "1      174305      0\n",
              "2      174306      0\n",
              "3      174307      0\n",
              "4      174308      1\n",
              "...       ...    ...\n",
              "43571  217875      0\n",
              "43572  217876      0\n",
              "43573  217877      2\n",
              "43574  217878      0\n",
              "43575  217879      0\n",
              "\n",
              "[43576 rows x 2 columns]"
            ]
          },
          "metadata": {
            "tags": []
          },
          "execution_count": 56
        }
      ]
    },
    {
      "cell_type": "code",
      "metadata": {
        "id": "haGy5tfnknTD"
      },
      "source": [
        "sample_submission.to_csv('/content/drive/MyDrive/dacon 기후기술분류 ai 데이터/baseline1.csv', index=False)"
      ],
      "execution_count": null,
      "outputs": []
    }
  ]
}